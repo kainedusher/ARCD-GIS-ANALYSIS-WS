{
 "cells": [
  {
   "cell_type": "markdown",
   "id": "2eef6241",
   "metadata": {},
   "source": [
    "<h1>HASS & IRDC Summer School - Intro to GIS Analysis Workshop</h1>"
   ]
  },
  {
   "cell_type": "markdown",
   "id": "4cce2a4e",
   "metadata": {},
   "source": [
    "<h3>Setup</h3>"
   ]
  },
  {
   "cell_type": "markdown",
   "id": "31679f53",
   "metadata": {},
   "source": [
    "Run the following block of code before continuing."
   ]
  },
  {
   "cell_type": "code",
   "execution_count": null,
   "id": "f26013f3",
   "metadata": {},
   "outputs": [],
   "source": [
    "import warnings\n",
    "import pandas as pd\n",
    "import folium\n",
    "warnings.filterwarnings(\"ignore\")"
   ]
  },
  {
   "cell_type": "markdown",
   "id": "6ac07c9b",
   "metadata": {},
   "source": [
    "<h2>Part 1: Point Distribution Analysis</h2>"
   ]
  },
  {
   "cell_type": "markdown",
   "id": "cd50be29",
   "metadata": {},
   "source": [
    "Point distribution analysis is a method used to describe the shape, centre, and spread of geospatial data. This typically involves visualising the data, calculating the geo midpoint, and calculating statistics related to the distances between points in the dataset.\n",
    "\n",
    "Complete each of the exercises below by running the code and answering any corresponding questions."
   ]
  },
  {
   "cell_type": "markdown",
   "id": "857f1f0f",
   "metadata": {},
   "source": [
    "<b>Exercise (a):</b> Import the required module from GeoJikuu to perform point distribution analysis."
   ]
  },
  {
   "cell_type": "code",
   "execution_count": null,
   "id": "3a98c664",
   "metadata": {},
   "outputs": [],
   "source": [
    "from geojikuu.descriptives.spatial_distribution import PointDistribution"
   ]
  },
  {
   "cell_type": "markdown",
   "id": "84c9bc88",
   "metadata": {},
   "source": [
    "<b>Exercise (b):</b> Load the dataset titled <i>'TLCMLayer_154 (POW camps).csv'</i> from file and store it as a DataFrame. Then, call the DataFrame's head() function to preview the first 5 observations in the dataset."
   ]
  },
  {
   "cell_type": "code",
   "execution_count": null,
   "id": "775ba5fc",
   "metadata": {},
   "outputs": [],
   "source": [
    "df = pd.read_csv(\"TLCMLayer_154 (POW camps).CSV\")\n",
    "df.head()"
   ]
  },
  {
   "cell_type": "markdown",
   "id": "d559d588",
   "metadata": {},
   "source": [
    "Answer the following questions:\n",
    "* What does this dataset represent?\n",
    "* What does each row represent?\n",
    "* What does each column represent?"
   ]
  },
  {
   "cell_type": "markdown",
   "id": "7a6a80f3",
   "metadata": {},
   "source": [
    "<b>Exercise (c):</b> The following block of code performs an operation on the DataFrame and then calls the head() function to display the first five observations (just like the previous exercise). Run the code, and then explain what that operation has done."
   ]
  },
  {
   "cell_type": "code",
   "execution_count": null,
   "id": "4dc33d48",
   "metadata": {},
   "outputs": [],
   "source": [
    "df.drop(df.columns.difference(['title','latitude', 'longitude']), axis=1, inplace=True)\n",
    "df.head()"
   ]
  },
  {
   "cell_type": "markdown",
   "id": "c607a418",
   "metadata": {},
   "source": [
    "<b>Exercise (d):</b> It's time to visualise the dataset as points on a map. Modify the colours, opacity, and size of the points to your liking, then run the following block of code."
   ]
  },
  {
   "cell_type": "code",
   "execution_count": null,
   "id": "9941f9ff",
   "metadata": {},
   "outputs": [],
   "source": [
    "research_area = [19.8407136, 111.2045519]\n",
    "init_map = folium.Map(location=research_area, zoom_start=3)\n",
    "\n",
    "init_coords = list(zip(df['latitude'], df['longitude']))\n",
    "\n",
    "place_name = df[\"title\"].values.tolist()\n",
    "\n",
    "for i in range(0, len((init_coords))):\n",
    "    popup = \"<b>Place: </b>\" + place_name[i]\n",
    "    folium.Circle(init_coords[i], color='orange', fillColor='orange', fillOpacity=0.5, radius=1000, popup=popup).add_to(init_map)\n",
    "   \n",
    "\n",
    "folium.TileLayer(\n",
    "    tiles = 'https://server.arcgisonline.com/ArcGIS/rest/services/World_Imagery/MapServer/tile/{z}/{y}/{x}',\n",
    "    attr = 'Esri',\n",
    "    name = 'Esri Satellite',\n",
    "    overlay = False,\n",
    "    control = True\n",
    "    ).add_to(init_map)\n",
    "\n",
    "init_map"
   ]
  },
  {
   "cell_type": "markdown",
   "id": "86b6dc89",
   "metadata": {},
   "source": [
    "<b>Exercise (e):</b> Given the map above, describe the visual distribution of the dataset. Can you see any interesting shapes or patterns? Where do the majority of observations seem to be?"
   ]
  },
  {
   "cell_type": "markdown",
   "id": "3a43b687",
   "metadata": {},
   "source": [
    "<b>Exercise (f):</b> Run the following line of code to create a PointDistribution object. This will be used to calculate our point distribution metrics."
   ]
  },
  {
   "cell_type": "code",
   "execution_count": null,
   "id": "51af81b2",
   "metadata": {},
   "outputs": [],
   "source": [
    "pow_pd = PointDistribution(list(zip(df['latitude'], df['longitude'])))"
   ]
  },
  {
   "cell_type": "markdown",
   "id": "a95a9f2f",
   "metadata": {},
   "source": [
    "<b>Exercise (g):</b> Next, we will calculate the geo midpoint and place it on our map. Modify the visual properties of the geo midpoint, and then run the next block of code."
   ]
  },
  {
   "cell_type": "code",
   "execution_count": null,
   "id": "4ad5e00d",
   "metadata": {},
   "outputs": [],
   "source": [
    "midpoint = pow_pd.geo_midpoint()\n",
    "folium.Circle(midpoint, color='red', fillColor='red', fillOpacity=0.5, radius=1000).add_to(init_map)\n",
    "init_map"
   ]
  },
  {
   "cell_type": "markdown",
   "id": "99eda413",
   "metadata": {},
   "source": [
    "<b>Exercise (h):</b> In reference to the map above, where does the geo midpoint reside? Which observation is closest to the geo midpoint?"
   ]
  },
  {
   "cell_type": "markdown",
   "id": "b7e0d437",
   "metadata": {},
   "source": [
    "<b>Exercise (i):</b> Run the following code and explain what the output means. Keep in mind that by default, these functions calculate the displacement of each point in relation to each other point."
   ]
  },
  {
   "cell_type": "code",
   "execution_count": null,
   "id": "c35bc797",
   "metadata": {},
   "outputs": [],
   "source": [
    "pow_pd.mean_displacement()"
   ]
  },
  {
   "cell_type": "code",
   "execution_count": null,
   "id": "7c19b455",
   "metadata": {},
   "outputs": [],
   "source": [
    "pow_pd.displacement_quartiles()"
   ]
  },
  {
   "cell_type": "markdown",
   "id": "fd8b0daa",
   "metadata": {},
   "source": [
    "<b>Exercise (j):</b> Use the information you have discovered to desrcibe the dataset in a paragraph."
   ]
  },
  {
   "cell_type": "markdown",
   "id": "2409bc6c",
   "metadata": {},
   "source": [
    "<b>Exercise (k):</b> Ponder the real-world implications of what you have found. Do you have any hypotheses or explanations regarding the results of the analysis? Be encouraged to share your thoughts and ideas with others."
   ]
  },
  {
   "cell_type": "code",
   "execution_count": null,
   "id": "99fe4122",
   "metadata": {},
   "outputs": [],
   "source": [
    "init_map"
   ]
  },
  {
   "cell_type": "markdown",
   "id": "c1876915",
   "metadata": {},
   "source": [
    "<h2>Part 2: Spacetime Point Distribution Analysis</h2>"
   ]
  },
  {
   "cell_type": "markdown",
   "id": "29ffae30",
   "metadata": {},
   "source": [
    "Spacetime distribution analysis is a method used to describe the shape, centre, and spread of spatiotemporal data. It is similar to point distribution analysis, but we instead calculate the spatiotemporal midpoint, and calculate statistics related to the spatiotemporal distances between points.\n",
    "\n",
    "As before, complete each of the exercises below by running the code and answering any corresponding questions."
   ]
  },
  {
   "cell_type": "markdown",
   "id": "3f27e3bb",
   "metadata": {},
   "source": [
    "<b>Exercise (a):</b> Import the required module from GeoJikuu to perform point distribution analysis."
   ]
  },
  {
   "cell_type": "code",
   "execution_count": null,
   "id": "818d2a09",
   "metadata": {},
   "outputs": [],
   "source": [
    "from geojikuu.descriptives.spacetime_distribution import SpacetimePointDistribution"
   ]
  },
  {
   "cell_type": "markdown",
   "id": "bddcbdfc",
   "metadata": {},
   "source": [
    "<b>Exercise (b):</b> Load the dataset titled <i>'Japan earthquakes 2018.csv'</i> from file and store it as a DataFrame. Then, call the DataFrame's head() function to preview the first 5 observations in the dataset."
   ]
  },
  {
   "cell_type": "code",
   "execution_count": null,
   "id": "c568f367",
   "metadata": {},
   "outputs": [],
   "source": [
    "df = pd.read_csv(\"Japan earthquakes 2018.csv\")\n",
    "df.head()"
   ]
  },
  {
   "cell_type": "markdown",
   "id": "75a1bfa5",
   "metadata": {},
   "source": [
    "Answer the following questions:\n",
    "* What does this dataset represent?\n",
    "* What does each row represent?\n",
    "* What does each column represent?"
   ]
  },
  {
   "cell_type": "markdown",
   "id": "2b928090",
   "metadata": {},
   "source": [
    "<b>Exercise (c):</b> Run the following line of code to drop the unwanted variables. Then, preview the results using head()."
   ]
  },
  {
   "cell_type": "code",
   "execution_count": null,
   "id": "21d39910",
   "metadata": {},
   "outputs": [],
   "source": [
    "df.drop(df.columns.difference(['latitude', 'longitude', 'date', 'place']), axis=1, inplace=True)\n",
    "df.head()"
   ]
  },
  {
   "cell_type": "markdown",
   "id": "bcc6eaf5",
   "metadata": {},
   "source": [
    "<b>Exercise (d):</b> Run the following line of code to create a SpacetimePointDistribution object. This will be used to calculate our spacetime point distribution metrics."
   ]
  },
  {
   "cell_type": "code",
   "execution_count": null,
   "id": "b3511638",
   "metadata": {},
   "outputs": [],
   "source": [
    "eq_sd = SpacetimePointDistribution(list(zip(df['latitude'], df['longitude'], df[\"date\"])))"
   ]
  },
  {
   "cell_type": "markdown",
   "id": "c628befd",
   "metadata": {},
   "source": [
    "<b>Exercise (e):</b> Run the following line of code and explain what the output means."
   ]
  },
  {
   "cell_type": "code",
   "execution_count": null,
   "id": "9dffa4c8",
   "metadata": {},
   "outputs": [],
   "source": [
    "eq_sd.mean_displacement()"
   ]
  },
  {
   "cell_type": "markdown",
   "id": "99246743",
   "metadata": {},
   "source": [
    "<b>Exercise (f):</b> Again, run the following line of code and explain what the output means."
   ]
  },
  {
   "cell_type": "code",
   "execution_count": null,
   "id": "2fd557b1",
   "metadata": {},
   "outputs": [],
   "source": [
    "eq_sd.displacement_quartiles()"
   ]
  },
  {
   "cell_type": "markdown",
   "id": "39b970f7",
   "metadata": {},
   "source": [
    "<b>Exercise (g):</b> Finally, run the following line of code and explain what the output means."
   ]
  },
  {
   "cell_type": "code",
   "execution_count": null,
   "id": "4a098788",
   "metadata": {},
   "outputs": [],
   "source": [
    "eq_sd.geo_temporal_midpoint()"
   ]
  },
  {
   "cell_type": "markdown",
   "id": "fbc81af4",
   "metadata": {},
   "source": [
    "<b>Exercise (h):</b> Use the information you have discovered to desrcibe the dataset in a paragraph."
   ]
  },
  {
   "cell_type": "markdown",
   "id": "17267629",
   "metadata": {},
   "source": [
    "<b>Exercise (i):</b> Ponder the real-world implications of what you have found. Do you have any hypotheses or explanations regarding the results of the analysis? Be encouraged to share your thoughts and ideas with others."
   ]
  },
  {
   "cell_type": "markdown",
   "id": "1d501568",
   "metadata": {},
   "source": [
    "<b>Exercise (j) (CHALLENGE):</b> Repurpose the appropriate code from Part 1 to map the spatial coordinates of the <i>'Japan earthquakes 2018.csv'</i> dataset. Add the 'place' and 'date' variables of each earthquake to each point's popup window."
   ]
  }
 ],
 "metadata": {
  "kernelspec": {
   "display_name": "Python 3 (ipykernel)",
   "language": "python",
   "name": "python3"
  },
  "language_info": {
   "codemirror_mode": {
    "name": "ipython",
    "version": 3
   },
   "file_extension": ".py",
   "mimetype": "text/x-python",
   "name": "python",
   "nbconvert_exporter": "python",
   "pygments_lexer": "ipython3",
   "version": "3.9.15"
  }
 },
 "nbformat": 4,
 "nbformat_minor": 5
}
